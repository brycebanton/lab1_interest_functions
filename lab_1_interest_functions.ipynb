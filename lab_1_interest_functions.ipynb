{
  "nbformat": 4,
  "nbformat_minor": 0,
  "metadata": {
    "kernelspec": {
      "display_name": "Python 3",
      "language": "python",
      "name": "python3"
    },
    "language_info": {
      "codemirror_mode": {
        "name": "ipython",
        "version": 3
      },
      "file_extension": ".py",
      "mimetype": "text/x-python",
      "name": "python",
      "nbconvert_exporter": "python",
      "pygments_lexer": "ipython3",
      "version": "3.7.2"
    },
    "colab": {
      "name": "lab_1_interest_functions.ipynb",
      "provenance": [],
      "include_colab_link": true
    }
  },
  "cells": [
    {
      "cell_type": "markdown",
      "metadata": {
        "id": "view-in-github",
        "colab_type": "text"
      },
      "source": [
        "<a href=\"https://colab.research.google.com/github/brycebanton/lab1_interest_functions/blob/master/lab_1_interest_functions.ipynb\" target=\"_parent\"><img src=\"https://colab.research.google.com/assets/colab-badge.svg\" alt=\"Open In Colab\"/></a>"
      ]
    },
    {
      "cell_type": "markdown",
      "metadata": {
        "id": "Y0ewAAQ6t1LT",
        "colab_type": "text"
      },
      "source": [
        "## Lab 1 - Compound Interest Functions\n",
        "\n",
        "Below you will find a table of important formulae related to compound interest.  \n",
        "\n",
        "<img src=\"https://www.dummies.com/wp-content/uploads/251689.image0.jpg\" alt=\"image0.jpg\" width=\"400\" height=\"319\">\n",
        "\n",
        "In this lab, you will create functions for each of these using (and documenting) the following workflow.\n",
        "\n",
        "1. Work out the correct answer for a few examples. *Hint* Search for e.g. \"worked out compound interest examples\" on the web.\n",
        "2. Write a `lambda` function and test this function on your test cases.\n",
        "3. Convert the `lambda` function to a `def` statement with an informative doc string that follows the [Google formating rules](https://google.github.io/styleguide/pyguide.html#383-functions-and-methods).\n",
        "4. Write an automated test function (using your previous examples) that will test your `def` statement function each time the code is executed."
      ]
    },
    {
      "cell_type": "markdown",
      "metadata": {
        "id": "DtyDtYhtt1LU",
        "colab_type": "text"
      },
      "source": [
        "#### Problem 1 -- Apply the process to create a simple interest functions."
      ]
    },
    {
      "cell_type": "code",
      "metadata": {
        "id": "T-jdshQazYqB",
        "colab_type": "code",
        "colab": {
          "base_uri": "https://localhost:8080/",
          "height": 34
        },
        "outputId": "2592a645-f336-47e6-c498-44ab458a9f8c"
      },
      "source": [
        "4*(5/100)"
      ],
      "execution_count": null,
      "outputs": [
        {
          "output_type": "execute_result",
          "data": {
            "text/plain": [
              "0.2"
            ]
          },
          "metadata": {
            "tags": []
          },
          "execution_count": 61
        }
      ]
    },
    {
      "cell_type": "code",
      "metadata": {
        "id": "tmEYGryN2K8R",
        "colab_type": "code",
        "colab": {
          "base_uri": "https://localhost:8080/",
          "height": 34
        },
        "outputId": "66abba50-8803-47ed-e3ae-e7c2db1afbc7"
      },
      "source": [
        "0*(5/100)"
      ],
      "execution_count": null,
      "outputs": [
        {
          "output_type": "execute_result",
          "data": {
            "text/plain": [
              "0.0"
            ]
          },
          "metadata": {
            "tags": []
          },
          "execution_count": 78
        }
      ]
    },
    {
      "cell_type": "code",
      "metadata": {
        "id": "CyBh8ZGSvpZ_",
        "colab_type": "code",
        "colab": {
          "base_uri": "https://localhost:8080/",
          "height": 34
        },
        "outputId": "e4f12b07-6fc7-4b8d-88de-b60e60f60abf"
      },
      "source": [
        "simple_interest = lambda p,r,t: p*r/100*t\n",
        "simple_interest(2,5,2)"
      ],
      "execution_count": null,
      "outputs": [
        {
          "output_type": "execute_result",
          "data": {
            "text/plain": [
              "0.2"
            ]
          },
          "metadata": {
            "tags": []
          },
          "execution_count": 43
        }
      ]
    },
    {
      "cell_type": "code",
      "metadata": {
        "id": "JjKg3qcswRJ2",
        "colab_type": "code",
        "colab": {
          "base_uri": "https://localhost:8080/",
          "height": 34
        },
        "outputId": "ab22e02d-bd5d-4f14-8d66-9e22a82f36fb"
      },
      "source": [
        "simple_interest(0,5,4)"
      ],
      "execution_count": null,
      "outputs": [
        {
          "output_type": "execute_result",
          "data": {
            "text/plain": [
              "0.0"
            ]
          },
          "metadata": {
            "tags": []
          },
          "execution_count": 44
        }
      ]
    },
    {
      "cell_type": "code",
      "metadata": {
        "id": "DbNvG98puK2D",
        "colab_type": "code",
        "colab": {}
      },
      "source": [
        "def simpleint (p,r,t):\n",
        "    \"\"\"\n",
        "    Args: \n",
        "      P is a numeric number representing the principal (float or int)\n",
        "      R is a numberic number representing the interest rate *Not a percent as it is converted too in the equation*\n",
        "      T is numeric number representing time in years\n",
        "\n",
        "      Return:\n",
        "      This function returns the simple interest from entering principal, interest rate, and time\"\"\"\n",
        "\n",
        "\n",
        "    output = p*r/100*t\n",
        "    return output"
      ],
      "execution_count": null,
      "outputs": []
    },
    {
      "cell_type": "code",
      "metadata": {
        "id": "bz8AOF9JwmR-",
        "colab_type": "code",
        "colab": {
          "base_uri": "https://localhost:8080/",
          "height": 34
        },
        "outputId": "bf50cccc-2f12-4f3b-a628-773e52aaf9a4"
      },
      "source": [
        "simpleint(2,5,2)"
      ],
      "execution_count": null,
      "outputs": [
        {
          "output_type": "execute_result",
          "data": {
            "text/plain": [
              "0.2"
            ]
          },
          "metadata": {
            "tags": []
          },
          "execution_count": 40
        }
      ]
    },
    {
      "cell_type": "markdown",
      "metadata": {
        "id": "VCv9VydVw1kA",
        "colab_type": "text"
      },
      "source": [
        ""
      ]
    },
    {
      "cell_type": "code",
      "metadata": {
        "id": "ghVQD7-VxPc0",
        "colab_type": "code",
        "colab": {
          "base_uri": "https://localhost:8080/",
          "height": 34
        },
        "outputId": "0c540ad9-0daf-48d8-bc3e-3beaee256b4e"
      },
      "source": [
        "simpleint(3,8,5)"
      ],
      "execution_count": null,
      "outputs": [
        {
          "output_type": "execute_result",
          "data": {
            "text/plain": [
              "1.2"
            ]
          },
          "metadata": {
            "tags": []
          },
          "execution_count": 41
        }
      ]
    },
    {
      "cell_type": "code",
      "metadata": {
        "id": "i0mI5OQSvLs1",
        "colab_type": "code",
        "colab": {
          "base_uri": "https://localhost:8080/",
          "height": 34
        },
        "outputId": "99c08596-0b2b-41a9-848e-bac6878bb88a"
      },
      "source": [
        "simpleint(0,5,4)"
      ],
      "execution_count": null,
      "outputs": [
        {
          "output_type": "execute_result",
          "data": {
            "text/plain": [
              "0.0"
            ]
          },
          "metadata": {
            "tags": []
          },
          "execution_count": 42
        }
      ]
    },
    {
      "cell_type": "code",
      "metadata": {
        "id": "1x-Lh-7DuKq9",
        "colab_type": "code",
        "colab": {}
      },
      "source": [
        "def test_simpleint():\n",
        "  assert simpleint(0,5,4) == 0.0\n",
        "  assert simpleint(2,5,2) == 0.2\n",
        "  assert simpleint(3,8,5) == 1.2\n",
        "  test_simpleint()"
      ],
      "execution_count": null,
      "outputs": []
    },
    {
      "cell_type": "markdown",
      "metadata": {
        "id": "pZ8U14IKt1La",
        "colab_type": "text"
      },
      "source": [
        "#### Problem 2 -- Apply the process to create a compound interest functions."
      ]
    },
    {
      "cell_type": "code",
      "metadata": {
        "id": "Ms7mN2uvzLde",
        "colab_type": "code",
        "colab": {
          "base_uri": "https://localhost:8080/",
          "height": 34
        },
        "outputId": "9e7c78b1-f4e0-4d6e-f900-39f2f0fe8dac"
      },
      "source": [
        "n_t = 2*2\n",
        "n_t"
      ],
      "execution_count": null,
      "outputs": [
        {
          "output_type": "execute_result",
          "data": {
            "text/plain": [
              "4"
            ]
          },
          "metadata": {
            "tags": []
          },
          "execution_count": 62
        }
      ]
    },
    {
      "cell_type": "code",
      "metadata": {
        "id": "4cS8EMvpz2VQ",
        "colab_type": "code",
        "colab": {
          "base_uri": "https://localhost:8080/",
          "height": 34
        },
        "outputId": "e5bfd74d-3b1c-43cd-cb1e-e31043f9d389"
      },
      "source": [
        "1 + (2/100)"
      ],
      "execution_count": null,
      "outputs": [
        {
          "output_type": "execute_result",
          "data": {
            "text/plain": [
              "1.02"
            ]
          },
          "metadata": {
            "tags": []
          },
          "execution_count": 63
        }
      ]
    },
    {
      "cell_type": "code",
      "metadata": {
        "id": "hwe0jXa-z_rY",
        "colab_type": "code",
        "colab": {
          "base_uri": "https://localhost:8080/",
          "height": 34
        },
        "outputId": "10e1dd5e-ab0a-4974-c315-efd6e8c234ba"
      },
      "source": [
        "1.02/2"
      ],
      "execution_count": null,
      "outputs": [
        {
          "output_type": "execute_result",
          "data": {
            "text/plain": [
              "0.51"
            ]
          },
          "metadata": {
            "tags": []
          },
          "execution_count": 64
        }
      ]
    },
    {
      "cell_type": "code",
      "metadata": {
        "id": "wthcrwFY0Cll",
        "colab_type": "code",
        "colab": {
          "base_uri": "https://localhost:8080/",
          "height": 34
        },
        "outputId": "8d560b50-3577-4ea2-8755-373b123b7f19"
      },
      "source": [
        "5*.51**4"
      ],
      "execution_count": null,
      "outputs": [
        {
          "output_type": "execute_result",
          "data": {
            "text/plain": [
              "0.33826005"
            ]
          },
          "metadata": {
            "tags": []
          },
          "execution_count": 66
        }
      ]
    },
    {
      "cell_type": "code",
      "metadata": {
        "id": "ILl9SjMst1Lb",
        "colab_type": "code",
        "colab": {}
      },
      "source": [
        "compound_interest =  lambda p,r,n,t: p*((1+(r/100))/n)**(n*t)"
      ],
      "execution_count": null,
      "outputs": []
    },
    {
      "cell_type": "code",
      "metadata": {
        "id": "CgsDTaJqyir5",
        "colab_type": "code",
        "colab": {
          "base_uri": "https://localhost:8080/",
          "height": 34
        },
        "outputId": "b798b0ba-90a1-4417-acf7-a4bfc611c1c1"
      },
      "source": [
        "compound_interest(5,2,2,2)"
      ],
      "execution_count": null,
      "outputs": [
        {
          "output_type": "execute_result",
          "data": {
            "text/plain": [
              "0.33826005"
            ]
          },
          "metadata": {
            "tags": []
          },
          "execution_count": 70
        }
      ]
    },
    {
      "cell_type": "code",
      "metadata": {
        "id": "MN2VT5bZ2esY",
        "colab_type": "code",
        "colab": {
          "base_uri": "https://localhost:8080/",
          "height": 34
        },
        "outputId": "61df332f-203b-4115-90ef-7a436882e93f"
      },
      "source": [
        "compound_interest(0,2,4,3)"
      ],
      "execution_count": null,
      "outputs": [
        {
          "output_type": "execute_result",
          "data": {
            "text/plain": [
              "0.0"
            ]
          },
          "metadata": {
            "tags": []
          },
          "execution_count": 89
        }
      ]
    },
    {
      "cell_type": "code",
      "metadata": {
        "id": "M306oDjG2xRL",
        "colab_type": "code",
        "colab": {
          "base_uri": "https://localhost:8080/",
          "height": 34
        },
        "outputId": "e7698544-12fd-4e56-9ffb-bc68fa47c645"
      },
      "source": [
        "4*3"
      ],
      "execution_count": null,
      "outputs": [
        {
          "output_type": "execute_result",
          "data": {
            "text/plain": [
              "12"
            ]
          },
          "metadata": {
            "tags": []
          },
          "execution_count": 90
        }
      ]
    },
    {
      "cell_type": "code",
      "metadata": {
        "id": "ANSfL4sW26SZ",
        "colab_type": "code",
        "colab": {
          "base_uri": "https://localhost:8080/",
          "height": 34
        },
        "outputId": "cc308712-e013-4fa7-b7c7-5dec49426690"
      },
      "source": [
        "1+(2/100)"
      ],
      "execution_count": null,
      "outputs": [
        {
          "output_type": "execute_result",
          "data": {
            "text/plain": [
              "1.02"
            ]
          },
          "metadata": {
            "tags": []
          },
          "execution_count": 93
        }
      ]
    },
    {
      "cell_type": "code",
      "metadata": {
        "id": "_6Hp0h5y3Fed",
        "colab_type": "code",
        "colab": {
          "base_uri": "https://localhost:8080/",
          "height": 34
        },
        "outputId": "a4206a43-be8c-48d1-9249-ebf2084ff1ff"
      },
      "source": [
        "1.02/2"
      ],
      "execution_count": null,
      "outputs": [
        {
          "output_type": "execute_result",
          "data": {
            "text/plain": [
              "0.51"
            ]
          },
          "metadata": {
            "tags": []
          },
          "execution_count": 94
        }
      ]
    },
    {
      "cell_type": "code",
      "metadata": {
        "id": "qmkOo2EV3Mx8",
        "colab_type": "code",
        "colab": {
          "base_uri": "https://localhost:8080/",
          "height": 34
        },
        "outputId": "65085a18-0f51-4e2d-ed10-ad79930209c6"
      },
      "source": [
        "0*.51**12"
      ],
      "execution_count": null,
      "outputs": [
        {
          "output_type": "execute_result",
          "data": {
            "text/plain": [
              "0.0"
            ]
          },
          "metadata": {
            "tags": []
          },
          "execution_count": 95
        }
      ]
    },
    {
      "cell_type": "code",
      "metadata": {
        "id": "TWecVGBD06wP",
        "colab_type": "code",
        "colab": {}
      },
      "source": [
        "def compound_int(p,r,n,t):\n",
        "    \"\"\"\n",
        "    Args:\n",
        "      P is a numeric number representing the principal (float or int)\n",
        "      R is a numeric number representing the interest rate *Not a percent as it is converted too in the equation*\n",
        "      N is a numeric number representing how many compoundings there are\n",
        "      T is numeric number representing time in years\n",
        "\n",
        "      Return:\n",
        "        This function returns the compound interest over a certain amount of years\n",
        "      \"\"\"\n",
        "    output = p*((1+(r/100))/n)**(n*t)\n",
        "    return output\n"
      ],
      "execution_count": null,
      "outputs": []
    },
    {
      "cell_type": "code",
      "metadata": {
        "id": "xd5gPvbx1p99",
        "colab_type": "code",
        "colab": {
          "base_uri": "https://localhost:8080/",
          "height": 34
        },
        "outputId": "df3cc5b5-fbdc-4c41-af1e-e722c9e7a4ea"
      },
      "source": [
        "compound_int(5,2,2,2)"
      ],
      "execution_count": null,
      "outputs": [
        {
          "output_type": "execute_result",
          "data": {
            "text/plain": [
              "0.33826005"
            ]
          },
          "metadata": {
            "tags": []
          },
          "execution_count": 130
        }
      ]
    },
    {
      "cell_type": "code",
      "metadata": {
        "id": "pmV_rUpa1srY",
        "colab_type": "code",
        "colab": {
          "base_uri": "https://localhost:8080/",
          "height": 34
        },
        "outputId": "4d50954b-a807-460f-88b0-1f2db92617bd"
      },
      "source": [
        "compound_int(3,2.4,5,1)"
      ],
      "execution_count": null,
      "outputs": [
        {
          "output_type": "execute_result",
          "data": {
            "text/plain": [
              "0.0010808639105689194"
            ]
          },
          "metadata": {
            "tags": []
          },
          "execution_count": 141
        }
      ]
    },
    {
      "cell_type": "code",
      "metadata": {
        "id": "1p-GWtNT19Yi",
        "colab_type": "code",
        "colab": {
          "base_uri": "https://localhost:8080/",
          "height": 34
        },
        "outputId": "32f34edf-3e0e-4f08-cf83-1c97d45324eb"
      },
      "source": [
        "compound_int(0,2.4,4,3)"
      ],
      "execution_count": null,
      "outputs": [
        {
          "output_type": "execute_result",
          "data": {
            "text/plain": [
              "0.0"
            ]
          },
          "metadata": {
            "tags": []
          },
          "execution_count": 140
        }
      ]
    },
    {
      "cell_type": "code",
      "metadata": {
        "id": "0dKe_vL51l_8",
        "colab_type": "code",
        "colab": {}
      },
      "source": [
        "def test_compound():\n",
        "  assert compound_int(5,2,2,2) == 0.33826005\n",
        "  assert compound_int(3,2.4,5,1) == 0.0010808639105689194\n",
        "  assert compound_int(0,2,4,3) == 0.0\n",
        "  test_compound()\n",
        "  "
      ],
      "execution_count": null,
      "outputs": []
    },
    {
      "cell_type": "markdown",
      "metadata": {
        "id": "IVKFf38Lt1Lg",
        "colab_type": "text"
      },
      "source": [
        "#### Problem 3 -- Apply the process to create a amortized loan payment function."
      ]
    },
    {
      "cell_type": "code",
      "metadata": {
        "id": "lgqPYyYL33vQ",
        "colab_type": "code",
        "colab": {
          "base_uri": "https://localhost:8080/",
          "height": 34
        },
        "outputId": "72e161ff-8fda-4cf3-cde1-a47fc984ef19"
      },
      "source": [
        "4*2"
      ],
      "execution_count": null,
      "outputs": [
        {
          "output_type": "execute_result",
          "data": {
            "text/plain": [
              "8"
            ]
          },
          "metadata": {
            "tags": []
          },
          "execution_count": 99
        }
      ]
    },
    {
      "cell_type": "code",
      "metadata": {
        "id": "lzKwWZQM36N8",
        "colab_type": "code",
        "colab": {
          "base_uri": "https://localhost:8080/",
          "height": 34
        },
        "outputId": "a3baf8f8-490f-4aab-f169-b1d90012ee6b"
      },
      "source": [
        "1+2"
      ],
      "execution_count": null,
      "outputs": [
        {
          "output_type": "execute_result",
          "data": {
            "text/plain": [
              "3"
            ]
          },
          "metadata": {
            "tags": []
          },
          "execution_count": 105
        }
      ]
    },
    {
      "cell_type": "code",
      "metadata": {
        "id": "e6LABjxM4GG3",
        "colab_type": "code",
        "colab": {
          "base_uri": "https://localhost:8080/",
          "height": 34
        },
        "outputId": "e26d764e-0669-4389-cffd-6dc8daa1b5a1"
      },
      "source": [
        "(1-3)"
      ],
      "execution_count": null,
      "outputs": [
        {
          "output_type": "execute_result",
          "data": {
            "text/plain": [
              "-2"
            ]
          },
          "metadata": {
            "tags": []
          },
          "execution_count": 109
        }
      ]
    },
    {
      "cell_type": "code",
      "metadata": {
        "id": "pPOhfEYy4tzL",
        "colab_type": "code",
        "colab": {
          "base_uri": "https://localhost:8080/",
          "height": 34
        },
        "outputId": "d6970594-0a29-4932-e4c9-3141eea4264c"
      },
      "source": [
        "(-2)**(-4)"
      ],
      "execution_count": null,
      "outputs": [
        {
          "output_type": "execute_result",
          "data": {
            "text/plain": [
              "0.0625"
            ]
          },
          "metadata": {
            "tags": []
          },
          "execution_count": 125
        }
      ]
    },
    {
      "cell_type": "code",
      "metadata": {
        "id": "Ed4mLD4O4L8m",
        "colab_type": "code",
        "colab": {
          "base_uri": "https://localhost:8080/",
          "height": 34
        },
        "outputId": "c2598b15-ac1d-46d8-a5fa-d3aa6d27d44c"
      },
      "source": [
        "8/0.0625"
      ],
      "execution_count": null,
      "outputs": [
        {
          "output_type": "execute_result",
          "data": {
            "text/plain": [
              "128.0"
            ]
          },
          "metadata": {
            "tags": []
          },
          "execution_count": 126
        }
      ]
    },
    {
      "cell_type": "code",
      "metadata": {
        "id": "QnEcU03At1Lh",
        "colab_type": "code",
        "colab": {}
      },
      "source": [
        "amort_loan = lambda p,i,n: (p*(i/100))/(1-(1+(i/100))**-n)"
      ],
      "execution_count": null,
      "outputs": []
    },
    {
      "cell_type": "code",
      "metadata": {
        "id": "oEQKWkvG3zlj",
        "colab_type": "code",
        "colab": {
          "base_uri": "https://localhost:8080/",
          "height": 34
        },
        "outputId": "00e9d6f0-9b59-4ce0-e437-7a0fd499bf05"
      },
      "source": [
        "amort_loan(1000,5,10)"
      ],
      "execution_count": null,
      "outputs": [
        {
          "output_type": "execute_result",
          "data": {
            "text/plain": [
              "129.5045749654566"
            ]
          },
          "metadata": {
            "tags": []
          },
          "execution_count": 219
        }
      ]
    },
    {
      "cell_type": "code",
      "metadata": {
        "id": "uKZelu_H5h6S",
        "colab_type": "code",
        "colab": {}
      },
      "source": [
        "def amortization_loan(p,i,n):\n",
        "    \"\"\"\n",
        "      Args:\n",
        "      P is a numeric number representing the principal (float or int)\n",
        "      I is a numeric number representing the interest rate *Not a percent as it is converted too in the equation*\n",
        "      N is numeric number representing the number of payments\n",
        "\n",
        "      Return:\n",
        "        This function returns the amount of payment needed for a amortization loan\n",
        "        \"\"\"\n",
        "    output = (p*(i/100))/(1-(1+(i/100))**-n)\n",
        "    return output\n",
        "\n"
      ],
      "execution_count": null,
      "outputs": []
    },
    {
      "cell_type": "code",
      "metadata": {
        "id": "RWzbx0nz6bqR",
        "colab_type": "code",
        "colab": {
          "base_uri": "https://localhost:8080/",
          "height": 34
        },
        "outputId": "5906cf92-284a-40fd-925d-97c01db8569e"
      },
      "source": [
        "amortization_loan(0,2,4)"
      ],
      "execution_count": null,
      "outputs": [
        {
          "output_type": "execute_result",
          "data": {
            "text/plain": [
              "0.0"
            ]
          },
          "metadata": {
            "tags": []
          },
          "execution_count": 221
        }
      ]
    },
    {
      "cell_type": "code",
      "metadata": {
        "id": "Kg4bxC8V6WFr",
        "colab_type": "code",
        "colab": {
          "base_uri": "https://localhost:8080/",
          "height": 34
        },
        "outputId": "ac4378d5-421b-4c07-95bc-981ad1a082a1"
      },
      "source": [
        "amortization_loan(1000,5,10)"
      ],
      "execution_count": null,
      "outputs": [
        {
          "output_type": "execute_result",
          "data": {
            "text/plain": [
              "129.5045749654566"
            ]
          },
          "metadata": {
            "tags": []
          },
          "execution_count": 224
        }
      ]
    },
    {
      "cell_type": "code",
      "metadata": {
        "id": "CtFx1JA46ell",
        "colab_type": "code",
        "colab": {
          "base_uri": "https://localhost:8080/",
          "height": 34
        },
        "outputId": "2cc4ceea-f9a3-42bf-91fc-d9d526b0e36f"
      },
      "source": [
        "amortization_loan(2,3.5,6)"
      ],
      "execution_count": null,
      "outputs": [
        {
          "output_type": "execute_result",
          "data": {
            "text/plain": [
              "0.37533641733063594"
            ]
          },
          "metadata": {
            "tags": []
          },
          "execution_count": 223
        }
      ]
    },
    {
      "cell_type": "code",
      "metadata": {
        "id": "m21C8Se56hmV",
        "colab_type": "code",
        "colab": {}
      },
      "source": [
        "def test_amort_loan():\n",
        "  assert amortization_loan(0,2,4) == 0\n",
        "  assert amortization_loan(1000,5,10) == 129.5045749654566\n",
        "  assert amortization_loan(2,3.5,6) == 12867.859375\n",
        "  test_amort_loan()"
      ],
      "execution_count": null,
      "outputs": []
    },
    {
      "cell_type": "markdown",
      "metadata": {
        "id": "IgzkKM7gt1Lk",
        "colab_type": "text"
      },
      "source": [
        "#### Problem 4 -- Apply the process to create a remaining balance function"
      ]
    },
    {
      "cell_type": "code",
      "metadata": {
        "id": "K6rIAnvFt1Lk",
        "colab_type": "code",
        "colab": {}
      },
      "source": [
        "remaining_bal = lambda r,i,n,x: r*((1-(1+(i/100))**-(n-x))/(i/100))"
      ],
      "execution_count": 276,
      "outputs": []
    },
    {
      "cell_type": "code",
      "metadata": {
        "id": "vTGRYYHw9YKa",
        "colab_type": "code",
        "colab": {
          "base_uri": "https://localhost:8080/",
          "height": 34
        },
        "outputId": "83d61229-529f-486c-b91d-d63259220f46"
      },
      "source": [
        "1+(3.4/100)"
      ],
      "execution_count": 283,
      "outputs": [
        {
          "output_type": "execute_result",
          "data": {
            "text/plain": [
              "1.034"
            ]
          },
          "metadata": {
            "tags": []
          },
          "execution_count": 283
        }
      ]
    },
    {
      "cell_type": "code",
      "metadata": {
        "id": "rRByj0aqcoEq",
        "colab_type": "code",
        "colab": {
          "base_uri": "https://localhost:8080/",
          "height": 34
        },
        "outputId": "1bf82c99-7382-4b99-90d6-467d7222d447"
      },
      "source": [
        "1.034**-3"
      ],
      "execution_count": 284,
      "outputs": [
        {
          "output_type": "execute_result",
          "data": {
            "text/plain": [
              "0.9045620923369312"
            ]
          },
          "metadata": {
            "tags": []
          },
          "execution_count": 284
        }
      ]
    },
    {
      "cell_type": "code",
      "metadata": {
        "id": "9AfoMViecy7i",
        "colab_type": "code",
        "colab": {
          "base_uri": "https://localhost:8080/",
          "height": 34
        },
        "outputId": "e67a2403-f163-450b-8d98-98cdb119b258"
      },
      "source": [
        "1-0.9045620923369312"
      ],
      "execution_count": 285,
      "outputs": [
        {
          "output_type": "execute_result",
          "data": {
            "text/plain": [
              "0.09543790766306881"
            ]
          },
          "metadata": {
            "tags": []
          },
          "execution_count": 285
        }
      ]
    },
    {
      "cell_type": "code",
      "metadata": {
        "id": "uG1_BiB3c7ne",
        "colab_type": "code",
        "colab": {
          "base_uri": "https://localhost:8080/",
          "height": 34
        },
        "outputId": "7c04dfab-b291-4aa8-aeeb-10c02857f248"
      },
      "source": [
        "0.09543790766306881/(3.4/100)"
      ],
      "execution_count": 287,
      "outputs": [
        {
          "output_type": "execute_result",
          "data": {
            "text/plain": [
              "2.806997284207906"
            ]
          },
          "metadata": {
            "tags": []
          },
          "execution_count": 287
        }
      ]
    },
    {
      "cell_type": "code",
      "metadata": {
        "id": "93VTfWlNc2Pe",
        "colab_type": "code",
        "colab": {
          "base_uri": "https://localhost:8080/",
          "height": 34
        },
        "outputId": "8e3dbea9-cd7a-4f11-8d60-183abc44464b"
      },
      "source": [
        "250*2.806997284207906"
      ],
      "execution_count": 288,
      "outputs": [
        {
          "output_type": "execute_result",
          "data": {
            "text/plain": [
              "701.7493210519765"
            ]
          },
          "metadata": {
            "tags": []
          },
          "execution_count": 288
        }
      ]
    },
    {
      "cell_type": "code",
      "metadata": {
        "id": "1_qPZjZ88K3c",
        "colab_type": "code",
        "colab": {
          "base_uri": "https://localhost:8080/",
          "height": 34
        },
        "outputId": "33a97c2f-31f8-4088-85d7-6f5d9bc44c99"
      },
      "source": [
        "remaining_bal(250,3.4,5,2)"
      ],
      "execution_count": 277,
      "outputs": [
        {
          "output_type": "execute_result",
          "data": {
            "text/plain": [
              "701.7493210519765"
            ]
          },
          "metadata": {
            "tags": []
          },
          "execution_count": 277
        }
      ]
    },
    {
      "cell_type": "code",
      "metadata": {
        "id": "Um80NHpJ-w3m",
        "colab_type": "code",
        "colab": {}
      },
      "source": [
        "def re_bal(r,i,n,x):\n",
        "    \"\"\"\n",
        "    Args: \n",
        "     R is a numeric number representing the regular payments made\n",
        "     I is a numeric number representing the interest rate *Not a percent as it is converted too in the equation*\n",
        "     N is numeric number representing the number of payments\n",
        "     X is the number of payments alrady made\n",
        "\n",
        "     Return: \n",
        "      This function returns the remaining balance after payments\n",
        "      \"\"\"\n",
        "    output = r*((1-(1+(i/100))**-(n-x))/(i/100))\n",
        "    return output\n"
      ],
      "execution_count": null,
      "outputs": []
    },
    {
      "cell_type": "code",
      "metadata": {
        "id": "V3bhylKO-4Ft",
        "colab_type": "code",
        "colab": {
          "base_uri": "https://localhost:8080/",
          "height": 34
        },
        "outputId": "7dd9d214-51f9-4877-b5d2-04e7eb21adf3"
      },
      "source": [
        "re_bal(250,3.4,5,2)"
      ],
      "execution_count": null,
      "outputs": [
        {
          "output_type": "execute_result",
          "data": {
            "text/plain": [
              "701.7493210519765"
            ]
          },
          "metadata": {
            "tags": []
          },
          "execution_count": 203
        }
      ]
    },
    {
      "cell_type": "code",
      "metadata": {
        "id": "HBD_Jk-__nt6",
        "colab_type": "code",
        "colab": {
          "base_uri": "https://localhost:8080/",
          "height": 34
        },
        "outputId": "d85be066-eb55-4ae8-ef5f-a3a59d6ce92d"
      },
      "source": [
        "re_bal(1000,6.5,4,2)"
      ],
      "execution_count": null,
      "outputs": [
        {
          "output_type": "execute_result",
          "data": {
            "text/plain": [
              "1820.6264189204064"
            ]
          },
          "metadata": {
            "tags": []
          },
          "execution_count": 204
        }
      ]
    },
    {
      "cell_type": "code",
      "metadata": {
        "id": "F8sgG_i0_0JJ",
        "colab_type": "code",
        "colab": {
          "base_uri": "https://localhost:8080/",
          "height": 34
        },
        "outputId": "54848b0c-7f1c-41e1-dcb2-fc34c3e6e8d9"
      },
      "source": [
        "re_bal(1000,6.5,5,0)"
      ],
      "execution_count": null,
      "outputs": [
        {
          "output_type": "execute_result",
          "data": {
            "text/plain": [
              "4155.679438139156"
            ]
          },
          "metadata": {
            "tags": []
          },
          "execution_count": 205
        }
      ]
    },
    {
      "cell_type": "code",
      "metadata": {
        "id": "ZDFx0QvtAq-c",
        "colab_type": "code",
        "colab": {
          "base_uri": "https://localhost:8080/",
          "height": 34
        },
        "outputId": "e3a8f4b1-35b2-46c0-c993-e9d92c5b5ac4"
      },
      "source": [
        "re_bal(250,2,10,4)"
      ],
      "execution_count": null,
      "outputs": [
        {
          "output_type": "execute_result",
          "data": {
            "text/plain": [
              "1400.3577226726002"
            ]
          },
          "metadata": {
            "tags": []
          },
          "execution_count": 202
        }
      ]
    },
    {
      "cell_type": "code",
      "metadata": {
        "id": "9Y4FqHqV_gG-",
        "colab_type": "code",
        "colab": {}
      },
      "source": [
        "def test_re_bal():\n",
        "  assert re_bal(250,3.4,5,2) == 701.7493210519765\n",
        "  assert re_bal(1000,6.5,4,2) == 1820.6264189204064\n",
        "  assert re_bal(1000,6.5,5,0) == 4155.679438139156\n",
        "  test_re_bal()\n"
      ],
      "execution_count": null,
      "outputs": []
    }
  ]
}